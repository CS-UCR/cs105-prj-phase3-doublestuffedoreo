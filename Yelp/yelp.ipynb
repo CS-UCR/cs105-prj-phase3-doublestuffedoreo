{
 "cells": [
  {
   "cell_type": "raw",
   "metadata": {},
   "source": [
    "Using Yelp's free API, I managed to gather up to 500 local restaurants in Riverside county, along with their price ranges, ratings, review counts, and addresses. Below is a dataframe."
   ]
  },
  {
   "cell_type": "code",
   "execution_count": 31,
   "metadata": {},
   "outputs": [
    {
     "data": {
      "text/html": [
       "<div>\n",
       "<style scoped>\n",
       "    .dataframe tbody tr th:only-of-type {\n",
       "        vertical-align: middle;\n",
       "    }\n",
       "\n",
       "    .dataframe tbody tr th {\n",
       "        vertical-align: top;\n",
       "    }\n",
       "\n",
       "    .dataframe thead th {\n",
       "        text-align: right;\n",
       "    }\n",
       "</style>\n",
       "<table border=\"1\" class=\"dataframe\">\n",
       "  <thead>\n",
       "    <tr style=\"text-align: right;\">\n",
       "      <th></th>\n",
       "      <th>name</th>\n",
       "      <th>price</th>\n",
       "      <th>rating</th>\n",
       "      <th>review_count</th>\n",
       "      <th>address</th>\n",
       "      <th>city</th>\n",
       "      <th>state</th>\n",
       "      <th>zip_code</th>\n",
       "    </tr>\n",
       "  </thead>\n",
       "  <tbody>\n",
       "    <tr>\n",
       "      <th>0</th>\n",
       "      <td>Diablos Micheladas Mexican Grill</td>\n",
       "      <td>$$</td>\n",
       "      <td>4.0</td>\n",
       "      <td>19</td>\n",
       "      <td>8304 Limonite Ave</td>\n",
       "      <td>Riverside</td>\n",
       "      <td>CA</td>\n",
       "      <td>92509</td>\n",
       "    </tr>\n",
       "    <tr>\n",
       "      <th>1</th>\n",
       "      <td>Sushi R91</td>\n",
       "      <td>$$</td>\n",
       "      <td>4.0</td>\n",
       "      <td>417</td>\n",
       "      <td>1630 Spruce St</td>\n",
       "      <td>Riverside</td>\n",
       "      <td>CA</td>\n",
       "      <td>92507</td>\n",
       "    </tr>\n",
       "    <tr>\n",
       "      <th>2</th>\n",
       "      <td>Placita</td>\n",
       "      <td>$$</td>\n",
       "      <td>4.0</td>\n",
       "      <td>182</td>\n",
       "      <td>1805 University Ave</td>\n",
       "      <td>Riverside</td>\n",
       "      <td>CA</td>\n",
       "      <td>92507</td>\n",
       "    </tr>\n",
       "    <tr>\n",
       "      <th>3</th>\n",
       "      <td>Rockstar Shrimp</td>\n",
       "      <td>$$</td>\n",
       "      <td>4.0</td>\n",
       "      <td>434</td>\n",
       "      <td>767 W Blaine St</td>\n",
       "      <td>Riverside</td>\n",
       "      <td>CA</td>\n",
       "      <td>92507</td>\n",
       "    </tr>\n",
       "    <tr>\n",
       "      <th>4</th>\n",
       "      <td>Yard House</td>\n",
       "      <td>$$</td>\n",
       "      <td>3.5</td>\n",
       "      <td>876</td>\n",
       "      <td>3775 Tyler St</td>\n",
       "      <td>Riverside</td>\n",
       "      <td>CA</td>\n",
       "      <td>92503</td>\n",
       "    </tr>\n",
       "    <tr>\n",
       "      <th>...</th>\n",
       "      <td>...</td>\n",
       "      <td>...</td>\n",
       "      <td>...</td>\n",
       "      <td>...</td>\n",
       "      <td>...</td>\n",
       "      <td>...</td>\n",
       "      <td>...</td>\n",
       "      <td>...</td>\n",
       "    </tr>\n",
       "    <tr>\n",
       "      <th>495</th>\n",
       "      <td>Baker's Drive-Thru</td>\n",
       "      <td>$</td>\n",
       "      <td>3.0</td>\n",
       "      <td>84</td>\n",
       "      <td>2221 Main St</td>\n",
       "      <td>Riverside</td>\n",
       "      <td>CA</td>\n",
       "      <td>92501</td>\n",
       "    </tr>\n",
       "    <tr>\n",
       "      <th>496</th>\n",
       "      <td>McDonald's</td>\n",
       "      <td>$</td>\n",
       "      <td>1.5</td>\n",
       "      <td>123</td>\n",
       "      <td>7474 Indiana St</td>\n",
       "      <td>Riverside</td>\n",
       "      <td>CA</td>\n",
       "      <td>92504</td>\n",
       "    </tr>\n",
       "    <tr>\n",
       "      <th>497</th>\n",
       "      <td>Burger King</td>\n",
       "      <td>$</td>\n",
       "      <td>3.5</td>\n",
       "      <td>4</td>\n",
       "      <td>5200 van buren blvd</td>\n",
       "      <td>Riverside</td>\n",
       "      <td>CA</td>\n",
       "      <td>92503</td>\n",
       "    </tr>\n",
       "    <tr>\n",
       "      <th>498</th>\n",
       "      <td>Fast 5 Pizza</td>\n",
       "      <td>$</td>\n",
       "      <td>3.5</td>\n",
       "      <td>30</td>\n",
       "      <td>1889 University Ave</td>\n",
       "      <td>Riverside</td>\n",
       "      <td>CA</td>\n",
       "      <td>92507</td>\n",
       "    </tr>\n",
       "    <tr>\n",
       "      <th>499</th>\n",
       "      <td>Fries Galore</td>\n",
       "      <td>$$</td>\n",
       "      <td>4.5</td>\n",
       "      <td>69</td>\n",
       "      <td>13188 Main St</td>\n",
       "      <td>Hesperia</td>\n",
       "      <td>CA</td>\n",
       "      <td>92345</td>\n",
       "    </tr>\n",
       "  </tbody>\n",
       "</table>\n",
       "<p>500 rows × 8 columns</p>\n",
       "</div>"
      ],
      "text/plain": [
       "                                 name price  rating  review_count  \\\n",
       "0    Diablos Micheladas Mexican Grill    $$     4.0            19   \n",
       "1                           Sushi R91    $$     4.0           417   \n",
       "2                             Placita    $$     4.0           182   \n",
       "3                     Rockstar Shrimp    $$     4.0           434   \n",
       "4                          Yard House    $$     3.5           876   \n",
       "..                                ...   ...     ...           ...   \n",
       "495                Baker's Drive-Thru     $     3.0            84   \n",
       "496                        McDonald's     $     1.5           123   \n",
       "497                       Burger King     $     3.5             4   \n",
       "498                      Fast 5 Pizza     $     3.5            30   \n",
       "499                      Fries Galore    $$     4.5            69   \n",
       "\n",
       "                 address       city state zip_code  \n",
       "0      8304 Limonite Ave  Riverside    CA    92509  \n",
       "1         1630 Spruce St  Riverside    CA    92507  \n",
       "2    1805 University Ave  Riverside    CA    92507  \n",
       "3        767 W Blaine St  Riverside    CA    92507  \n",
       "4          3775 Tyler St  Riverside    CA    92503  \n",
       "..                   ...        ...   ...      ...  \n",
       "495         2221 Main St  Riverside    CA    92501  \n",
       "496      7474 Indiana St  Riverside    CA    92504  \n",
       "497  5200 van buren blvd  Riverside    CA    92503  \n",
       "498  1889 University Ave  Riverside    CA    92507  \n",
       "499        13188 Main St   Hesperia    CA    92345  \n",
       "\n",
       "[500 rows x 8 columns]"
      ]
     },
     "execution_count": 31,
     "metadata": {},
     "output_type": "execute_result"
    }
   ],
   "source": [
    "import pandas as pd\n",
    "import matplotlib.pyplot as plt\n",
    "from mpl_toolkits.mplot3d import Axes3D\n",
    "import matplotlib as mpl\n",
    "import numpy as np\n",
    "import seaborn as sns\n",
    "import csv\n",
    "import math\n",
    "%matplotlib inline\n",
    "\n",
    "df = pd.read_csv('Yelp/restaurants.csv')\n",
    "df = df.replace(np.nan, 0.0, regex=True)\n",
    "df"
   ]
  },
  {
   "cell_type": "raw",
   "metadata": {},
   "source": [
    "Organizing by price, we get the following. (NOTE: We'll use a simple bar chart to best visualize this data.)"
   ]
  },
  {
   "cell_type": "code",
   "execution_count": 58,
   "metadata": {},
   "outputs": [
    {
     "name": "stdout",
     "output_type": "stream",
     "text": [
      "$:  280\n",
      "$$:  164\n",
      "$$$:  2\n",
      "N/A:  54\n"
     ]
    },
    {
     "data": {
      "image/png": "[encoded data removed]",
      "text/plain": [
       "<Figure size 432x288 with 1 Axes>"
      ]
     },
     "metadata": {
      "needs_background": "light"
     },
     "output_type": "display_data"
    }
   ],
   "source": [
    "single = df.price[df.price == '$'].count()\n",
    "double = df.price[df.price == '$$'].count()\n",
    "triple = df.price[df.price == '$$$'].count()\n",
    "# combine = single + double + triple\n",
    "# none = 500 - combine\n",
    "none = df.price[df.price == 0].count()\n",
    "\n",
    "print(\"$: \", single)\n",
    "print(\"$$: \", double)\n",
    "print(\"$$$: \", triple)\n",
    "print(\"N/A: \", none)\n",
    "\n",
    "data = [single, double, triple, none]\n",
    "plt.bar([\"\\$\", \"\\$\\$\", \"\\$\\$\\$\", \"None\"], data)\n",
    "plt.title('Price Range Counts by Yelp Dollar Sign')\n",
    "plt.xlabel('Price')\n",
    "plt.ylabel('Count')\n",
    "plt.show()"
   ]
  },
  {
   "cell_type": "raw",
   "metadata": {},
   "source": [
    "We'll now observe the correlation between restaurant ratings and their review counts."
   ]
  },
  {
   "cell_type": "code",
   "execution_count": 40,
   "metadata": {},
   "outputs": [
    {
     "data": {
      "image/png": "[encoded data removed]",
      "text/plain": [
       "<Figure size 432x288 with 1 Axes>"
      ]
     },
     "metadata": {
      "needs_background": "light"
     },
     "output_type": "display_data"
    }
   ],
   "source": [
    "plt.scatter(x=df['review_count'], y=df['rating'])\n",
    "plt.xlabel(\"Number of Reviews\")\n",
    "plt.ylabel(\"Average Rating\")\n",
    "plt.show()"
   ]
  },
  {
   "cell_type": "raw",
   "metadata": {},
   "source": [
    "We can see that very few restaurants have over 600 reviews. Let's filter this down from 0 to 600 reviews for clarity."
   ]
  },
  {
   "cell_type": "code",
   "execution_count": 62,
   "metadata": {},
   "outputs": [
    {
     "data": {
      "image/png": "[encoded data removed]",
      "text/plain": [
       "<Figure size 432x288 with 1 Axes>"
      ]
     },
     "metadata": {
      "needs_background": "light"
     },
     "output_type": "display_data"
    }
   ],
   "source": [
    "df2 = pd.read_csv('Yelp/restaurants.csv')\n",
    "df2 = df2[df2['review_count'] < 600]\n",
    "\n",
    "plt.scatter(x=df2['review_count'], y=df2['rating'])\n",
    "plt.xlabel(\"Number of Reviews\")\n",
    "plt.ylabel(\"Average Rating\")\n",
    "plt.show()"
   ]
  },
  {
   "cell_type": "raw",
   "metadata": {},
   "source": [
    "We can see that the majority of ratings are around 3 to 4 stars. This is an average measurement, nothing too special. A handful of reviews are below 3 stars as well. Now that we've made an inference based on the graph, we output the total number of review partitions below:"
   ]
  },
  {
   "cell_type": "code",
   "execution_count": 65,
   "metadata": {},
   "outputs": [
    {
     "name": "stdout",
     "output_type": "stream",
     "text": [
      "Reviews\n",
      "1.0:  0\n",
      "1.5:  4\n",
      "2.0:  11\n",
      "2.5:  27\n",
      "3.0:  73\n",
      "3.5:  137\n",
      "4.0:  155\n",
      "4.5:  61\n",
      "5.0:  32\n"
     ]
    },
    {
     "data": {
      "image/png": "[encoded data removed]",
      "text/plain": [
       "<Figure size 432x288 with 1 Axes>"
      ]
     },
     "metadata": {
      "needs_background": "light"
     },
     "output_type": "display_data"
    }
   ],
   "source": [
    "r1 = df.price[df.rating == 1.0].count()\n",
    "r15 = df.price[df.rating == 1.5].count()\n",
    "r2 = df.price[df.rating == 2.0].count()\n",
    "r25 = df.price[df.rating == 2.5].count()\n",
    "r3 = df.price[df.rating == 3.0].count()\n",
    "r35 = df.price[df.rating == 3.5].count()\n",
    "r4 = df.price[df.rating == 4.0].count()\n",
    "r45 = df.price[df.rating == 4.5].count()\n",
    "r5 = df.price[df.rating == 5.0].count()\n",
    "print(\"Reviews\")\n",
    "print(\"1.0: \", r1)\n",
    "print(\"1.5: \", r15)\n",
    "print(\"2.0: \", r2)\n",
    "print(\"2.5: \", r25)\n",
    "print(\"3.0: \", r3)\n",
    "print(\"3.5: \", r35)\n",
    "print(\"4.0: \", r4)\n",
    "print(\"4.5: \", r45)\n",
    "print(\"5.0: \", r5)\n",
    "data2 = [r1, r15, r2, r25, r3, r35, r4, r45, r5]\n",
    "plt.bar([\"1.0\", \"1.5\", \"2.0\", \"2.5\", \"3.0\", \"3.5\", \"4.0\", \"4.5\", \"5.0\"], data2)\n",
    "plt.title('Ratings')\n",
    "plt.xlabel('Rating')\n",
    "plt.ylabel('Count')\n",
    "plt.show()"
   ]
  },
  {
   "cell_type": "raw",
   "metadata": {},
   "source": [
    "Let's examine the review counts, but with single dollar sign (cheap) restaurants, since more people tend to go to cheaper restaurants."
   ]
  },
  {
   "cell_type": "code",
   "execution_count": 103,
   "metadata": {},
   "outputs": [
    {
     "data": {
      "text/html": [
       "<div>\n",
       "<style scoped>\n",
       "    .dataframe tbody tr th:only-of-type {\n",
       "        vertical-align: middle;\n",
       "    }\n",
       "\n",
       "    .dataframe tbody tr th {\n",
       "        vertical-align: top;\n",
       "    }\n",
       "\n",
       "    .dataframe thead th {\n",
       "        text-align: right;\n",
       "    }\n",
       "</style>\n",
       "<table border=\"1\" class=\"dataframe\">\n",
       "  <thead>\n",
       "    <tr style=\"text-align: right;\">\n",
       "      <th></th>\n",
       "      <th>name</th>\n",
       "      <th>price</th>\n",
       "      <th>rating</th>\n",
       "      <th>review_count</th>\n",
       "      <th>address</th>\n",
       "      <th>city</th>\n",
       "      <th>state</th>\n",
       "      <th>zip_code</th>\n",
       "    </tr>\n",
       "  </thead>\n",
       "  <tbody>\n",
       "    <tr>\n",
       "      <th>12</th>\n",
       "      <td>Royal Orchid Thai Restaurant</td>\n",
       "      <td>$</td>\n",
       "      <td>4.0</td>\n",
       "      <td>327</td>\n",
       "      <td>9791 Magnolia Ave</td>\n",
       "      <td>Riverside</td>\n",
       "      <td>CA</td>\n",
       "      <td>92503</td>\n",
       "    </tr>\n",
       "    <tr>\n",
       "      <th>18</th>\n",
       "      <td>Taco Station</td>\n",
       "      <td>$</td>\n",
       "      <td>4.0</td>\n",
       "      <td>590</td>\n",
       "      <td>4088 Mission Inn Ave</td>\n",
       "      <td>Riverside</td>\n",
       "      <td>CA</td>\n",
       "      <td>92501</td>\n",
       "    </tr>\n",
       "    <tr>\n",
       "      <th>22</th>\n",
       "      <td>Taqueria 2 Potrillos - Riverside</td>\n",
       "      <td>$</td>\n",
       "      <td>4.0</td>\n",
       "      <td>97</td>\n",
       "      <td>10088 Magnolia Ave</td>\n",
       "      <td>Riverside</td>\n",
       "      <td>CA</td>\n",
       "      <td>92503</td>\n",
       "    </tr>\n",
       "    <tr>\n",
       "      <th>24</th>\n",
       "      <td>D'caesaro Pizza &amp; Italian Restaurant</td>\n",
       "      <td>$</td>\n",
       "      <td>4.5</td>\n",
       "      <td>372</td>\n",
       "      <td>6160 Arlington Ave</td>\n",
       "      <td>Riverside</td>\n",
       "      <td>CA</td>\n",
       "      <td>92504</td>\n",
       "    </tr>\n",
       "    <tr>\n",
       "      <th>29</th>\n",
       "      <td>El Trigo</td>\n",
       "      <td>$</td>\n",
       "      <td>4.5</td>\n",
       "      <td>386</td>\n",
       "      <td>4155 Park Ave</td>\n",
       "      <td>Riverside</td>\n",
       "      <td>CA</td>\n",
       "      <td>92507</td>\n",
       "    </tr>\n",
       "    <tr>\n",
       "      <th>...</th>\n",
       "      <td>...</td>\n",
       "      <td>...</td>\n",
       "      <td>...</td>\n",
       "      <td>...</td>\n",
       "      <td>...</td>\n",
       "      <td>...</td>\n",
       "      <td>...</td>\n",
       "      <td>...</td>\n",
       "    </tr>\n",
       "    <tr>\n",
       "      <th>494</th>\n",
       "      <td>Church's Chicken</td>\n",
       "      <td>$</td>\n",
       "      <td>2.0</td>\n",
       "      <td>101</td>\n",
       "      <td>1886 University Ave</td>\n",
       "      <td>Riverside</td>\n",
       "      <td>CA</td>\n",
       "      <td>92507</td>\n",
       "    </tr>\n",
       "    <tr>\n",
       "      <th>495</th>\n",
       "      <td>Baker's Drive-Thru</td>\n",
       "      <td>$</td>\n",
       "      <td>3.0</td>\n",
       "      <td>84</td>\n",
       "      <td>2221 Main St</td>\n",
       "      <td>Riverside</td>\n",
       "      <td>CA</td>\n",
       "      <td>92501</td>\n",
       "    </tr>\n",
       "    <tr>\n",
       "      <th>496</th>\n",
       "      <td>McDonald's</td>\n",
       "      <td>$</td>\n",
       "      <td>1.5</td>\n",
       "      <td>123</td>\n",
       "      <td>7474 Indiana St</td>\n",
       "      <td>Riverside</td>\n",
       "      <td>CA</td>\n",
       "      <td>92504</td>\n",
       "    </tr>\n",
       "    <tr>\n",
       "      <th>497</th>\n",
       "      <td>Burger King</td>\n",
       "      <td>$</td>\n",
       "      <td>3.5</td>\n",
       "      <td>4</td>\n",
       "      <td>5200 van buren blvd</td>\n",
       "      <td>Riverside</td>\n",
       "      <td>CA</td>\n",
       "      <td>92503</td>\n",
       "    </tr>\n",
       "    <tr>\n",
       "      <th>498</th>\n",
       "      <td>Fast 5 Pizza</td>\n",
       "      <td>$</td>\n",
       "      <td>3.5</td>\n",
       "      <td>30</td>\n",
       "      <td>1889 University Ave</td>\n",
       "      <td>Riverside</td>\n",
       "      <td>CA</td>\n",
       "      <td>92507</td>\n",
       "    </tr>\n",
       "  </tbody>\n",
       "</table>\n",
       "<p>280 rows × 8 columns</p>\n",
       "</div>"
      ],
      "text/plain": [
       "                                     name price  rating  review_count  \\\n",
       "12           Royal Orchid Thai Restaurant     $     4.0           327   \n",
       "18                           Taco Station     $     4.0           590   \n",
       "22       Taqueria 2 Potrillos - Riverside     $     4.0            97   \n",
       "24   D'caesaro Pizza & Italian Restaurant     $     4.5           372   \n",
       "29                               El Trigo     $     4.5           386   \n",
       "..                                    ...   ...     ...           ...   \n",
       "494                      Church's Chicken     $     2.0           101   \n",
       "495                    Baker's Drive-Thru     $     3.0            84   \n",
       "496                            McDonald's     $     1.5           123   \n",
       "497                           Burger King     $     3.5             4   \n",
       "498                          Fast 5 Pizza     $     3.5            30   \n",
       "\n",
       "                  address       city state zip_code  \n",
       "12      9791 Magnolia Ave  Riverside    CA    92503  \n",
       "18   4088 Mission Inn Ave  Riverside    CA    92501  \n",
       "22     10088 Magnolia Ave  Riverside    CA    92503  \n",
       "24     6160 Arlington Ave  Riverside    CA    92504  \n",
       "29          4155 Park Ave  Riverside    CA    92507  \n",
       "..                    ...        ...   ...      ...  \n",
       "494   1886 University Ave  Riverside    CA    92507  \n",
       "495          2221 Main St  Riverside    CA    92501  \n",
       "496       7474 Indiana St  Riverside    CA    92504  \n",
       "497   5200 van buren blvd  Riverside    CA    92503  \n",
       "498   1889 University Ave  Riverside    CA    92507  \n",
       "\n",
       "[280 rows x 8 columns]"
      ]
     },
     "execution_count": 103,
     "metadata": {},
     "output_type": "execute_result"
    }
   ],
   "source": [
    "df3 = pd.read_csv('Yelp/restaurants.csv')\n",
    "df3 = df3[df3['price'] == '$']\n",
    "df3"
   ]
  },
  {
   "cell_type": "code",
   "execution_count": 121,
   "metadata": {},
   "outputs": [
    {
     "data": {
      "image/png": "[encoded data removed]",
      "text/plain": [
       "<Figure size 432x288 with 1 Axes>"
      ]
     },
     "metadata": {
      "needs_background": "light"
     },
     "output_type": "display_data"
    }
   ],
   "source": [
    "x = df3['review_count']\n",
    "y = df['review_count']\n",
    "num_bins = 15\n",
    "n, bins, patches = plt.hist(x, num_bins, facecolor='black', alpha=0.5)\n",
    "n, bins, patches = plt.hist(y, num_bins, facecolor='green', alpha=0.5)\n",
    "plt.subplots_adjust(left=0.15)\n",
    "plt.xlabel(\"Reviews\")\n",
    "plt.ylabel(\"Count\")\n",
    "plt.show()"
   ]
  },
  {
   "cell_type": "raw",
   "metadata": {},
   "source": [
    "Where the black represents the single dollar sign restaurants and the green represents the initial dataset. We can draw the conclusion for both sets being compared that most of these restaurants tend to average around 0 to 200 reviews each. This means that either Riverside restaurants are not as popular, there are few \"Yelpers\" to leave reviews for this area, or these businesses haven't been around for a while."
   ]
  },
  {
   "cell_type": "code",
   "execution_count": null,
   "metadata": {},
   "outputs": [],
   "source": []
  }
 ],
 "metadata": {
  "kernelspec": {
   "display_name": "Python 3",
   "language": "python",
   "name": "python3"
  },
  "language_info": {
   "codemirror_mode": {
    "name": "ipython",
    "version": 3
   },
   "file_extension": ".py",
   "mimetype": "text/x-python",
   "name": "python",
   "nbconvert_exporter": "python",
   "pygments_lexer": "ipython3",
   "version": "3.6.8"
  }
 },
 "nbformat": 4,
 "nbformat_minor": 4
}
