{
 "cells": [
  {
   "cell_type": "markdown",
   "metadata": {
    "colab_type": "text",
    "id": "24fRMKkZgc1_"
   },
   "source": [
    "Sandy Tsan, 861299012\n",
    "\n",
    "Douglas Tran, 861208900\n",
    "\n",
    "# Riverside Crime Reports and the Riverside Yelp Restaurants\n",
    "### Part 1: Dataset info "
   ]
  },
  {
   "cell_type": "code",
   "execution_count": 1,
   "metadata": {},
   "outputs": [
    {
     "data": {
      "text/html": [
       "<div>\n",
       "<style scoped>\n",
       "    .dataframe tbody tr th:only-of-type {\n",
       "        vertical-align: middle;\n",
       "    }\n",
       "\n",
       "    .dataframe tbody tr th {\n",
       "        vertical-align: top;\n",
       "    }\n",
       "\n",
       "    .dataframe thead th {\n",
       "        text-align: right;\n",
       "    }\n",
       "</style>\n",
       "<table border=\"1\" class=\"dataframe\">\n",
       "  <thead>\n",
       "    <tr style=\"text-align: right;\">\n",
       "      <th></th>\n",
       "      <th>name</th>\n",
       "      <th>price</th>\n",
       "      <th>rating</th>\n",
       "      <th>review_count</th>\n",
       "      <th>address</th>\n",
       "      <th>city</th>\n",
       "      <th>state</th>\n",
       "      <th>zip_code</th>\n",
       "    </tr>\n",
       "  </thead>\n",
       "  <tbody>\n",
       "    <tr>\n",
       "      <th>0</th>\n",
       "      <td>Diablos Micheladas Mexican Grill</td>\n",
       "      <td>$$</td>\n",
       "      <td>4.0</td>\n",
       "      <td>19</td>\n",
       "      <td>8304 Limonite Ave</td>\n",
       "      <td>Riverside</td>\n",
       "      <td>CA</td>\n",
       "      <td>92509</td>\n",
       "    </tr>\n",
       "    <tr>\n",
       "      <th>1</th>\n",
       "      <td>Sushi R91</td>\n",
       "      <td>$$</td>\n",
       "      <td>4.0</td>\n",
       "      <td>417</td>\n",
       "      <td>1630 Spruce St</td>\n",
       "      <td>Riverside</td>\n",
       "      <td>CA</td>\n",
       "      <td>92507</td>\n",
       "    </tr>\n",
       "    <tr>\n",
       "      <th>2</th>\n",
       "      <td>Placita</td>\n",
       "      <td>$$</td>\n",
       "      <td>4.0</td>\n",
       "      <td>182</td>\n",
       "      <td>1805 University Ave</td>\n",
       "      <td>Riverside</td>\n",
       "      <td>CA</td>\n",
       "      <td>92507</td>\n",
       "    </tr>\n",
       "    <tr>\n",
       "      <th>3</th>\n",
       "      <td>Rockstar Shrimp</td>\n",
       "      <td>$$</td>\n",
       "      <td>4.0</td>\n",
       "      <td>434</td>\n",
       "      <td>767 W Blaine St</td>\n",
       "      <td>Riverside</td>\n",
       "      <td>CA</td>\n",
       "      <td>92507</td>\n",
       "    </tr>\n",
       "    <tr>\n",
       "      <th>4</th>\n",
       "      <td>Yard House</td>\n",
       "      <td>$$</td>\n",
       "      <td>3.5</td>\n",
       "      <td>876</td>\n",
       "      <td>3775 Tyler St</td>\n",
       "      <td>Riverside</td>\n",
       "      <td>CA</td>\n",
       "      <td>92503</td>\n",
       "    </tr>\n",
       "  </tbody>\n",
       "</table>\n",
       "</div>"
      ],
      "text/plain": [
       "                               name price  rating  review_count  \\\n",
       "0  Diablos Micheladas Mexican Grill    $$     4.0            19   \n",
       "1                         Sushi R91    $$     4.0           417   \n",
       "2                           Placita    $$     4.0           182   \n",
       "3                   Rockstar Shrimp    $$     4.0           434   \n",
       "4                        Yard House    $$     3.5           876   \n",
       "\n",
       "               address       city state zip_code  \n",
       "0    8304 Limonite Ave  Riverside    CA    92509  \n",
       "1       1630 Spruce St  Riverside    CA    92507  \n",
       "2  1805 University Ave  Riverside    CA    92507  \n",
       "3      767 W Blaine St  Riverside    CA    92507  \n",
       "4        3775 Tyler St  Riverside    CA    92503  "
      ]
     },
     "execution_count": 1,
     "metadata": {},
     "output_type": "execute_result"
    }
   ],
   "source": [
    "import pandas as pd\n",
    "import numpy as np\n",
    "import seaborn as sns\n",
    "\n",
    "crimes_df = pd.read_csv(\"Crime_Reports.csv\")\n",
    "crimes_df = crimes_df[[\"offenseDate\",\"crimeType\",\"premise\",\"blockAddress\",\"npc\"]].copy()\n",
    "crimes_df['offenseDate'].replace('', np.nan, inplace=True)\n",
    "crimes_df = crimes_df.dropna(subset=['offenseDate'])\n",
    "\n",
    "restaurants_df = pd.read_csv('Yelp/restaurants.csv')\n",
    "restaurants_df = restaurants_df.replace(np.nan, 0.0, regex=True)\n",
    "restaurants_df.head()"
   ]
  },
  {
   "cell_type": "markdown",
   "metadata": {
    "colab_type": "text",
    "id": "24fRMKkZgc1_"
   },
   "source": [
    "### Part 2: Building a model\n",
    "This can include building a model to perform prediction (like applying linear regression or kNN) or clustering. \n",
    "\n",
    "You can also use the models for data analysis, not just ‘predictions’. For example, in linear regression we saw that the\n",
    "resulting coefficients tell us how the features are correlated to the target variable. \n",
    "\n",
    "So, this analysis might help you identify features of importance with respect to a target feature in the dataset.\n",
    "\n"
   ]
  },
  {
   "cell_type": "markdown",
   "metadata": {
    "colab_type": "text",
    "id": "24fRMKkZgc1_"
   },
   "source": [
    "## Part 3: Data analysis\n",
    "\n",
    "We are looking to see the following:\n",
    "1. Do the quality of the restaurants (as weighted by its price and ratings) affect the crime rate of a certain zone?\n",
    "2. Do restaurants tend to congregate around a certain zone? Is that congregation somewhat due to the amount of crime in that zone?\n",
    "\n",
    "We hypothesize that higher rated and higher priced restaurants have lower crime rates. We also hypothesize that restaurants tend to congregate around zones that have lower crime rates"
   ]
  },
  {
   "cell_type": "code",
   "execution_count": 2,
   "metadata": {},
   "outputs": [
    {
     "data": {
      "text/html": [
       "<div>\n",
       "<style scoped>\n",
       "    .dataframe tbody tr th:only-of-type {\n",
       "        vertical-align: middle;\n",
       "    }\n",
       "\n",
       "    .dataframe tbody tr th {\n",
       "        vertical-align: top;\n",
       "    }\n",
       "\n",
       "    .dataframe thead th {\n",
       "        text-align: right;\n",
       "    }\n",
       "</style>\n",
       "<table border=\"1\" class=\"dataframe\">\n",
       "  <thead>\n",
       "    <tr style=\"text-align: right;\">\n",
       "      <th></th>\n",
       "      <th>name</th>\n",
       "      <th>price</th>\n",
       "      <th>rating</th>\n",
       "      <th>review_count</th>\n",
       "      <th>address</th>\n",
       "      <th>city</th>\n",
       "      <th>state</th>\n",
       "      <th>zip_code</th>\n",
       "      <th>npc_zones</th>\n",
       "      <th>price_value</th>\n",
       "    </tr>\n",
       "  </thead>\n",
       "  <tbody>\n",
       "    <tr>\n",
       "      <th>0</th>\n",
       "      <td>Diablos Micheladas Mexican Grill</td>\n",
       "      <td>$$</td>\n",
       "      <td>4.0</td>\n",
       "      <td>19</td>\n",
       "      <td>8304 Limonite Ave</td>\n",
       "      <td>Riverside</td>\n",
       "      <td>CA</td>\n",
       "      <td>92509</td>\n",
       "      <td>WEST</td>\n",
       "      <td>2.0</td>\n",
       "    </tr>\n",
       "    <tr>\n",
       "      <th>1</th>\n",
       "      <td>Sushi R91</td>\n",
       "      <td>$$</td>\n",
       "      <td>4.0</td>\n",
       "      <td>417</td>\n",
       "      <td>1630 Spruce St</td>\n",
       "      <td>Riverside</td>\n",
       "      <td>CA</td>\n",
       "      <td>92507</td>\n",
       "      <td>EAST</td>\n",
       "      <td>2.0</td>\n",
       "    </tr>\n",
       "    <tr>\n",
       "      <th>2</th>\n",
       "      <td>Placita</td>\n",
       "      <td>$$</td>\n",
       "      <td>4.0</td>\n",
       "      <td>182</td>\n",
       "      <td>1805 University Ave</td>\n",
       "      <td>Riverside</td>\n",
       "      <td>CA</td>\n",
       "      <td>92507</td>\n",
       "      <td>EAST</td>\n",
       "      <td>2.0</td>\n",
       "    </tr>\n",
       "    <tr>\n",
       "      <th>3</th>\n",
       "      <td>Rockstar Shrimp</td>\n",
       "      <td>$$</td>\n",
       "      <td>4.0</td>\n",
       "      <td>434</td>\n",
       "      <td>767 W Blaine St</td>\n",
       "      <td>Riverside</td>\n",
       "      <td>CA</td>\n",
       "      <td>92507</td>\n",
       "      <td>EAST</td>\n",
       "      <td>2.0</td>\n",
       "    </tr>\n",
       "    <tr>\n",
       "      <th>4</th>\n",
       "      <td>Yard House</td>\n",
       "      <td>$$</td>\n",
       "      <td>3.5</td>\n",
       "      <td>876</td>\n",
       "      <td>3775 Tyler St</td>\n",
       "      <td>Riverside</td>\n",
       "      <td>CA</td>\n",
       "      <td>92503</td>\n",
       "      <td>CENTRAL</td>\n",
       "      <td>2.0</td>\n",
       "    </tr>\n",
       "  </tbody>\n",
       "</table>\n",
       "</div>"
      ],
      "text/plain": [
       "                               name price  rating  review_count  \\\n",
       "0  Diablos Micheladas Mexican Grill    $$     4.0            19   \n",
       "1                         Sushi R91    $$     4.0           417   \n",
       "2                           Placita    $$     4.0           182   \n",
       "3                   Rockstar Shrimp    $$     4.0           434   \n",
       "4                        Yard House    $$     3.5           876   \n",
       "\n",
       "               address       city state zip_code npc_zones  price_value  \n",
       "0    8304 Limonite Ave  Riverside    CA    92509      WEST          2.0  \n",
       "1       1630 Spruce St  Riverside    CA    92507      EAST          2.0  \n",
       "2  1805 University Ave  Riverside    CA    92507      EAST          2.0  \n",
       "3      767 W Blaine St  Riverside    CA    92507      EAST          2.0  \n",
       "4        3775 Tyler St  Riverside    CA    92503   CENTRAL          2.0  "
      ]
     },
     "execution_count": 2,
     "metadata": {},
     "output_type": "execute_result"
    }
   ],
   "source": [
    "restaurants_df = restaurants_df[(restaurants_df.zip_code != '09251') | (restaurants_df.zip_code != '91010') | (restaurants_df.zip_code != 'GL54 2DP')]\n",
    "restaurants_df[\"npc_zones\"] = restaurants_df[\"zip_code\"].map({\n",
    "    '92509' : 'WEST',\n",
    "    '92507' : 'EAST',\n",
    "    '92503' : 'CENTRAL',\n",
    "    '92506' : 'CENTRAL',\n",
    "    '92505' : 'WEST',\n",
    "    '92504' : 'NORTH',\n",
    "    '92501' : 'EAST',\n",
    "    '92508' : 'CENTRAL',\n",
    "    '92313' : 'NORTH',\n",
    "    '92502' : 'EAST',\n",
    "    '92516' : 'EAST',\n",
    "    '92882' : 'WEST',\n",
    "    '92324' : 'NORTH',\n",
    "    '92373' : 'EAST',\n",
    "    '92521' : 'EAST',\n",
    "    '92345' : 'NORTH'\n",
    "})\n",
    "\n",
    "restaurants_df[\"price_value\"] = restaurants_df[\"price\"].map({\n",
    "    '0.0' : 0,\n",
    "    '$' : 1,\n",
    "    '$$' : 2,\n",
    "    '$$$' : 3,\n",
    "    '$$$$' : 4,\n",
    "})\n",
    "\n",
    "restaurants_df.head()"
   ]
  },
  {
   "cell_type": "markdown",
   "metadata": {
    "colab_type": "text",
    "id": "24fRMKkZgc1_"
   },
   "source": [
    "In the command above, we remove the unlikely zipcodes from the yelp dataset (ones that are invalid and ones that don't correspond to Riverside county). We then remap these zipcodes to match the zones with the crime database"
   ]
  },
  {
   "cell_type": "code",
   "execution_count": 3,
   "metadata": {},
   "outputs": [
    {
     "data": {
      "text/plain": [
       "array(['NORTH', 'CENTRAL', 'WEST', 'EAST'], dtype=object)"
      ]
     },
     "execution_count": 3,
     "metadata": {},
     "output_type": "execute_result"
    }
   ],
   "source": [
    "crimes_df = crimes_df[(crimes_df.npc == 'NORTH') | (crimes_df.npc == 'CENTRAL') | (crimes_df.npc == 'WEST') | (crimes_df.npc == 'EAST')]\n",
    "crimes_df.npc.unique()"
   ]
  },
  {
   "cell_type": "markdown",
   "metadata": {
    "colab_type": "text",
    "id": "24fRMKkZgc1_"
   },
   "source": [
    "In the command above, we remove the invalid zones including the unknown. Removal is possible as these extraneous zones make up less than 5% of the dataset we are given."
   ]
  },
  {
   "cell_type": "code",
   "execution_count": 4,
   "metadata": {},
   "outputs": [
    {
     "name": "stdout",
     "output_type": "stream",
     "text": [
      "West crime = 20.289638554216868 crimes per day \n",
      "North crime = 20.487493869543894 crimes per day \n",
      "East crime = 19.15609756097561 crimes per day \n",
      "Central crime = 15.609041231992052 crimes per day \n",
      "\n"
     ]
    },
    {
     "data": {
      "image/png": "[encoded data removed]",
      "text/plain": [
       "<Figure size 432x288 with 1 Axes>"
      ]
     },
     "metadata": {
      "needs_background": "light"
     },
     "output_type": "display_data"
    }
   ],
   "source": [
    "crimes_df.npc.value_counts().plot.bar(legend=True)\n",
    "\n",
    "crimes_df[crimes_df.npc == \"NORTH\"].describe()\n",
    "crimes_df[crimes_df.npc == \"CENTRAL\"].describe()\n",
    "crimes_df[crimes_df.npc == \"WEST\"].describe()\n",
    "crimes_df[crimes_df.npc == \"EAST\"].describe()\n",
    "\n",
    "print( \"West crime =\", 42101/2075, \"crimes per day \\nNorth crime =\", 41774/2039, \"crimes per day \\nEast crime =\", 39270/2050, \"crimes per day \\nCentral crime =\", 31421/2013, \"crimes per day \\n\")"
   ]
  },
  {
   "cell_type": "markdown",
   "metadata": {
    "colab_type": "text",
    "id": "24fRMKkZgc1_"
   },
   "source": [
    "Here, we are finding the amount of crime per day. So we are arregating the total number of unique crimes per day and then dividing that number under the total number of crimes in that zone. From this, we can see that the central zone has less occurences of crime per day than other zones, which correlates to the graph showing the total amount of crime in that area. This is our crime rate."
   ]
  },
  {
   "cell_type": "code",
   "execution_count": 5,
   "metadata": {},
   "outputs": [
    {
     "data": {
      "text/plain": [
       "<matplotlib.axes._subplots.AxesSubplot at 0x7f169eb34748>"
      ]
     },
     "execution_count": 5,
     "metadata": {},
     "output_type": "execute_result"
    },
    {
     "data": {
      "image/png": "[encoded data removed]",
      "text/plain": [
       "<Figure size 432x288 with 1 Axes>"
      ]
     },
     "metadata": {
      "needs_background": "light"
     },
     "output_type": "display_data"
    }
   ],
   "source": [
    "restaurants_df.npc_zones.value_counts().plot.bar(legend=True, color=\"#2ecc71\")"
   ]
  },
  {
   "cell_type": "markdown",
   "metadata": {
    "colab_type": "text",
    "id": "24fRMKkZgc1_"
   },
   "source": [
    "Here, we have the frequency of resturants per zone and the frequency of crime per zone. From the data given above, there is actually an inverse relationship between the two datasets and the zones. We can see that the central zone has the most restaurants and the least amount of crime. Conversely, the North zone has the least amount of restaurants with the second to most amount of crime.\n",
    "#### Conclusion for Hypothesis 2:\n",
    "The following information above supports our hypothesis that restaurants tend to congregate around zones with less crime. \n",
    "\n",
    "In the next steps, we will compare the average rating and prices of all the restaurants in their corresponding zones. For the further analysis, we will compare the restaurant data in the Central zones with the data in the Northern zones to see if it corresponds to our hypothesis."
   ]
  },
  {
   "cell_type": "code",
   "execution_count": 6,
   "metadata": {},
   "outputs": [
    {
     "name": "stdout",
     "output_type": "stream",
     "text": [
      "Central zone average rating: 3.5282485875706215\n",
      "East zone average rating: 3.708588957055215\n",
      "North zone average rating: 3.7547169811320753\n",
      "West zone average rating: 3.9134615384615383\n"
     ]
    },
    {
     "data": {
      "text/plain": [
       "<matplotlib.axes._subplots.AxesSubplot at 0x7f169eb23f98>"
      ]
     },
     "execution_count": 6,
     "metadata": {},
     "output_type": "execute_result"
    },
    {
     "data": {
      "image/png": "[encoded data removed]",
      "text/plain": [
       "<Figure size 432x288 with 2 Axes>"
      ]
     },
     "metadata": {
      "needs_background": "light"
     },
     "output_type": "display_data"
    }
   ],
   "source": [
    "print(\"Central zone average rating:\",restaurants_df.rating[restaurants_df.npc_zones == 'CENTRAL'].mean())\n",
    "print(\"East zone average rating:\",restaurants_df.rating[restaurants_df.npc_zones == 'EAST'].mean())\n",
    "print(\"North zone average rating:\",restaurants_df.rating[restaurants_df.npc_zones == 'NORTH'].mean())\n",
    "print(\"West zone average rating:\",restaurants_df.rating[restaurants_df.npc_zones == 'WEST'].mean())\n",
    "\n",
    "counts = pd.crosstab(restaurants_df.rating, restaurants_df.npc_zones)\n",
    "joint = counts / counts.sum().sum()\n",
    "sns.heatmap(counts)"
   ]
  },
  {
   "cell_type": "code",
   "execution_count": 7,
   "metadata": {},
   "outputs": [
    {
     "name": "stdout",
     "output_type": "stream",
     "text": [
      "Central zone average price: 1.4233128834355828\n",
      "East zone average price: 1.4109589041095891\n",
      "North zone average price: 1.2291666666666667\n",
      "West zone average price: 1.3146067415730338\n"
     ]
    },
    {
     "data": {
      "text/plain": [
       "<matplotlib.axes._subplots.AxesSubplot at 0x7f169ea19160>"
      ]
     },
     "execution_count": 7,
     "metadata": {},
     "output_type": "execute_result"
    },
    {
     "data": {
      "image/png": "[encoded data removed]",
      "text/plain": [
       "<Figure size 432x288 with 2 Axes>"
      ]
     },
     "metadata": {
      "needs_background": "light"
     },
     "output_type": "display_data"
    }
   ],
   "source": [
    "print(\"Central zone average price:\",restaurants_df.price_value[restaurants_df.npc_zones == 'CENTRAL'].mean())\n",
    "print(\"East zone average price:\",restaurants_df.price_value[restaurants_df.npc_zones == 'EAST'].mean())\n",
    "print(\"North zone average price:\",restaurants_df.price_value[restaurants_df.npc_zones == 'NORTH'].mean())\n",
    "print(\"West zone average price:\",restaurants_df.price_value[restaurants_df.npc_zones == 'WEST'].mean())\n",
    "\n",
    "counts = pd.crosstab(restaurants_df.price_value, restaurants_df.npc_zones)\n",
    "joint = counts / counts.sum().sum()\n",
    "sns.heatmap(joint)"
   ]
  },
  {
   "cell_type": "markdown",
   "metadata": {
    "colab_type": "text",
    "id": "24fRMKkZgc1_"
   },
   "source": [
    "We can see that the Central zone has the least average rating with the highest price point and the North zone has the second highest rating to the lowest average price.\n",
    "\n",
    "#### Conclusion for Hypothesis 1:\n",
    "With that, we can conclude that an unpopular restaurant with a high price point is less likely to have crime reports in that zone. Inversely, we can also say that a lower priced, popular restaurant is more likely to be in a crime-ridden zone. This goes against our hypothesis that higher rated and higher priced restaurants have lower crime rates."
   ]
  }
 ],
 "metadata": {
  "kernelspec": {
   "display_name": "Python 3",
   "language": "python",
   "name": "python3"
  },
  "language_info": {
   "codemirror_mode": {
    "name": "ipython",
    "version": 3
   },
   "file_extension": ".py",
   "mimetype": "text/x-python",
   "name": "python",
   "nbconvert_exporter": "python",
   "pygments_lexer": "ipython3",
   "version": "3.6.8"
  }
 },
 "nbformat": 4,
 "nbformat_minor": 4
}
