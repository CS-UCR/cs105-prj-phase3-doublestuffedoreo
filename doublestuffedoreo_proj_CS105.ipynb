{
 "cells": [
  {
   "cell_type": "markdown",
   "metadata": {
    "colab_type": "text",
    "id": "24fRMKkZgc1_"
   },
   "source": [
    "Sandy Tsan, 861299012\n",
    "\n",
    "Douglas Tran, 861208900\n",
    "\n",
    "# Riverside Crime Reports Cleaning\n",
    "### Part 1: Dataset info "
   ]
  },
  {
   "cell_type": "code",
   "execution_count": 7,
   "metadata": {},
   "outputs": [
    {
     "data": {
      "text/html": [
       "<div>\n",
       "<style scoped>\n",
       "    .dataframe tbody tr th:only-of-type {\n",
       "        vertical-align: middle;\n",
       "    }\n",
       "\n",
       "    .dataframe tbody tr th {\n",
       "        vertical-align: top;\n",
       "    }\n",
       "\n",
       "    .dataframe thead th {\n",
       "        text-align: right;\n",
       "    }\n",
       "</style>\n",
       "<table border=\"1\" class=\"dataframe\">\n",
       "  <thead>\n",
       "    <tr style=\"text-align: right;\">\n",
       "      <th></th>\n",
       "      <th>name</th>\n",
       "      <th>price</th>\n",
       "      <th>rating</th>\n",
       "      <th>review_count</th>\n",
       "      <th>address</th>\n",
       "      <th>city</th>\n",
       "      <th>state</th>\n",
       "      <th>zip_code</th>\n",
       "    </tr>\n",
       "  </thead>\n",
       "  <tbody>\n",
       "    <tr>\n",
       "      <th>0</th>\n",
       "      <td>Diablos Micheladas Mexican Grill</td>\n",
       "      <td>$$</td>\n",
       "      <td>4.0</td>\n",
       "      <td>19</td>\n",
       "      <td>8304 Limonite Ave</td>\n",
       "      <td>Riverside</td>\n",
       "      <td>CA</td>\n",
       "      <td>92509</td>\n",
       "    </tr>\n",
       "    <tr>\n",
       "      <th>1</th>\n",
       "      <td>Sushi R91</td>\n",
       "      <td>$$</td>\n",
       "      <td>4.0</td>\n",
       "      <td>417</td>\n",
       "      <td>1630 Spruce St</td>\n",
       "      <td>Riverside</td>\n",
       "      <td>CA</td>\n",
       "      <td>92507</td>\n",
       "    </tr>\n",
       "    <tr>\n",
       "      <th>2</th>\n",
       "      <td>Placita</td>\n",
       "      <td>$$</td>\n",
       "      <td>4.0</td>\n",
       "      <td>182</td>\n",
       "      <td>1805 University Ave</td>\n",
       "      <td>Riverside</td>\n",
       "      <td>CA</td>\n",
       "      <td>92507</td>\n",
       "    </tr>\n",
       "    <tr>\n",
       "      <th>3</th>\n",
       "      <td>Rockstar Shrimp</td>\n",
       "      <td>$$</td>\n",
       "      <td>4.0</td>\n",
       "      <td>434</td>\n",
       "      <td>767 W Blaine St</td>\n",
       "      <td>Riverside</td>\n",
       "      <td>CA</td>\n",
       "      <td>92507</td>\n",
       "    </tr>\n",
       "    <tr>\n",
       "      <th>4</th>\n",
       "      <td>Yard House</td>\n",
       "      <td>$$</td>\n",
       "      <td>3.5</td>\n",
       "      <td>876</td>\n",
       "      <td>3775 Tyler St</td>\n",
       "      <td>Riverside</td>\n",
       "      <td>CA</td>\n",
       "      <td>92503</td>\n",
       "    </tr>\n",
       "  </tbody>\n",
       "</table>\n",
       "</div>"
      ],
      "text/plain": [
       "                               name price  rating  review_count  \\\n",
       "0  Diablos Micheladas Mexican Grill    $$     4.0            19   \n",
       "1                         Sushi R91    $$     4.0           417   \n",
       "2                           Placita    $$     4.0           182   \n",
       "3                   Rockstar Shrimp    $$     4.0           434   \n",
       "4                        Yard House    $$     3.5           876   \n",
       "\n",
       "               address       city state zip_code  \n",
       "0    8304 Limonite Ave  Riverside    CA    92509  \n",
       "1       1630 Spruce St  Riverside    CA    92507  \n",
       "2  1805 University Ave  Riverside    CA    92507  \n",
       "3      767 W Blaine St  Riverside    CA    92507  \n",
       "4        3775 Tyler St  Riverside    CA    92503  "
      ]
     },
     "execution_count": 7,
     "metadata": {},
     "output_type": "execute_result"
    }
   ],
   "source": [
    "import pandas as pd\n",
    "import numpy as np\n",
    "crimes_df = pd.read_csv(\"Crime_Reports.csv\")\n",
    "crimes_df = crimes_df[[\"offenseDate\",\"crimeType\",\"premise\",\"blockAddress\"]].copy()\n",
    "crimes_df['offenseDate'].replace('', np.nan, inplace=True)\n",
    "crimes_df = crimes_df.dropna(subset=['offenseDate'])\n",
    "\n",
    "restaurants_df = pd.read_csv('Yelp/restaurants.csv')\n",
    "restaurants_df = restaurants_df.replace(np.nan, 0.0, regex=True)\n",
    "restaurants_df.head()"
   ]
  },
  {
   "cell_type": "code",
   "execution_count": 8,
   "metadata": {},
   "outputs": [
    {
     "data": {
      "text/html": [
       "<div>\n",
       "<style scoped>\n",
       "    .dataframe tbody tr th:only-of-type {\n",
       "        vertical-align: middle;\n",
       "    }\n",
       "\n",
       "    .dataframe tbody tr th {\n",
       "        vertical-align: top;\n",
       "    }\n",
       "\n",
       "    .dataframe thead th {\n",
       "        text-align: right;\n",
       "    }\n",
       "</style>\n",
       "<table border=\"1\" class=\"dataframe\">\n",
       "  <thead>\n",
       "    <tr style=\"text-align: right;\">\n",
       "      <th></th>\n",
       "      <th>offenseDate</th>\n",
       "      <th>crimeType</th>\n",
       "      <th>premise</th>\n",
       "      <th>blockAddress</th>\n",
       "    </tr>\n",
       "  </thead>\n",
       "  <tbody>\n",
       "    <tr>\n",
       "      <th>0</th>\n",
       "      <td>12/3/2018</td>\n",
       "      <td>MOTOR VEH. THEFT</td>\n",
       "      <td>RESIDENTIAL</td>\n",
       "      <td>4700 BLOCK BEVERLY CT</td>\n",
       "    </tr>\n",
       "    <tr>\n",
       "      <th>1</th>\n",
       "      <td>12/4/2018</td>\n",
       "      <td>ROBBERY</td>\n",
       "      <td>RESIDENTIAL</td>\n",
       "      <td>9300 BLOCK INDIANA AVE</td>\n",
       "    </tr>\n",
       "    <tr>\n",
       "      <th>2</th>\n",
       "      <td>12/4/2018</td>\n",
       "      <td>VANDALISM</td>\n",
       "      <td>MISCELLANEOUS</td>\n",
       "      <td>3600 BLOCK NYE AVE</td>\n",
       "    </tr>\n",
       "    <tr>\n",
       "      <th>3</th>\n",
       "      <td>12/4/2018</td>\n",
       "      <td>OTHER</td>\n",
       "      <td>HIGHWAYS</td>\n",
       "      <td>GOLDEN AVE/ TURNINGBEN WAY</td>\n",
       "    </tr>\n",
       "    <tr>\n",
       "      <th>4</th>\n",
       "      <td>12/3/2018</td>\n",
       "      <td>ASSAULT</td>\n",
       "      <td>RESIDENTIAL</td>\n",
       "      <td>2500 BLOCK 14TH ST</td>\n",
       "    </tr>\n",
       "  </tbody>\n",
       "</table>\n",
       "</div>"
      ],
      "text/plain": [
       "  offenseDate         crimeType        premise                blockAddress\n",
       "0   12/3/2018  MOTOR VEH. THEFT    RESIDENTIAL      4700 BLOCK BEVERLY CT \n",
       "1   12/4/2018           ROBBERY    RESIDENTIAL     9300 BLOCK INDIANA AVE \n",
       "2   12/4/2018         VANDALISM  MISCELLANEOUS         3600 BLOCK NYE AVE \n",
       "3   12/4/2018             OTHER       HIGHWAYS  GOLDEN AVE/ TURNINGBEN WAY\n",
       "4   12/3/2018           ASSAULT    RESIDENTIAL         2500 BLOCK 14TH ST "
      ]
     },
     "execution_count": 8,
     "metadata": {},
     "output_type": "execute_result"
    }
   ],
   "source": [
    "crimes_df.head()"
   ]
  },
  {
   "cell_type": "markdown",
   "metadata": {
    "colab_type": "text",
    "id": "24fRMKkZgc1_"
   },
   "source": [
    "### Part 2: Building a model\n",
    "This can include building a model to perform prediction (like applying linear regression or kNN) or clustering. \n",
    "\n",
    "You can also use the models for data analysis, not just ‘predictions’. For example, in linear regression we saw that the\n",
    "resulting coefficients tell us how the features are correlated to the target variable. \n",
    "\n",
    "So, this analysis might help you identify features of importance with respect to a target feature in the dataset.\n",
    "\n"
   ]
  },
  {
   "cell_type": "markdown",
   "metadata": {
    "colab_type": "text",
    "id": "24fRMKkZgc1_"
   },
   "source": [
    "### Part 3: Data analysis\n",
    "For analysis, identify two hypotheses (or questions) you are curious about regarding your data\n",
    "and then proceed to use ML techniques to try to answer these questions.\n",
    "\n",
    "If you decide to build\n",
    "models for predictions or classification, be sure to setup your problem so that you have a training,\n",
    "validation and testing dataset and you evaluate at least two ML / Data Mining techniques and\n",
    "compare their results."
   ]
  },
  {
   "cell_type": "code",
   "execution_count": null,
   "metadata": {},
   "outputs": [],
   "source": []
  }
 ],
 "metadata": {
  "kernelspec": {
   "display_name": "Python 3",
   "language": "python",
   "name": "python3"
  },
  "language_info": {
   "codemirror_mode": {
    "name": "ipython",
    "version": 3
   },
   "file_extension": ".py",
   "mimetype": "text/x-python",
   "name": "python",
   "nbconvert_exporter": "python",
   "pygments_lexer": "ipython3",
   "version": "3.6.8"
  }
 },
 "nbformat": 4,
 "nbformat_minor": 4
}
