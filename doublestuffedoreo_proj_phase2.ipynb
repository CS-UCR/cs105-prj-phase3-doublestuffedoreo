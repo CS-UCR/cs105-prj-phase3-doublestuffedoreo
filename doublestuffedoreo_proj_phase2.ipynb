{
 "cells": [
  {
   "cell_type": "markdown",
   "metadata": {
    "colab_type": "text",
    "id": "24fRMKkZgc1_"
   },
   "source": [
    "Sandy Tsan, 861299012\n",
    "\n",
    "Douglas Tran, 861208900\n",
    "# Riverside Crime Reports Cleaning\n",
    "### Part 1: Dataset info "
   ]
  },
  {
   "cell_type": "code",
   "execution_count": 1,
   "metadata": {},
   "outputs": [
    {
     "data": {
      "text/html": [
       "<div>\n",
       "<style scoped>\n",
       "    .dataframe tbody tr th:only-of-type {\n",
       "        vertical-align: middle;\n",
       "    }\n",
       "\n",
       "    .dataframe tbody tr th {\n",
       "        vertical-align: top;\n",
       "    }\n",
       "\n",
       "    .dataframe thead th {\n",
       "        text-align: right;\n",
       "    }\n",
       "</style>\n",
       "<table border=\"1\" class=\"dataframe\">\n",
       "  <thead>\n",
       "    <tr style=\"text-align: right;\">\n",
       "      <th></th>\n",
       "      <th>_id</th>\n",
       "      <th>blockAddress</th>\n",
       "      <th>npc</th>\n",
       "      <th>premise</th>\n",
       "      <th>callTime</th>\n",
       "      <th>reportDate</th>\n",
       "      <th>rd</th>\n",
       "      <th>offenseDate</th>\n",
       "      <th>crimeType</th>\n",
       "      <th>caseNumber</th>\n",
       "    </tr>\n",
       "  </thead>\n",
       "  <tbody>\n",
       "    <tr>\n",
       "      <th>0</th>\n",
       "      <td>160500</td>\n",
       "      <td>4700 BLOCK BEVERLY CT</td>\n",
       "      <td>NORTH</td>\n",
       "      <td>RESIDENTIAL</td>\n",
       "      <td>5:36AM</td>\n",
       "      <td>12/4/2018</td>\n",
       "      <td>E02</td>\n",
       "      <td>12/3/2018</td>\n",
       "      <td>MOTOR VEH. THEFT</td>\n",
       "      <td>P18228509</td>\n",
       "    </tr>\n",
       "    <tr>\n",
       "      <th>1</th>\n",
       "      <td>160499</td>\n",
       "      <td>9300 BLOCK INDIANA AVE</td>\n",
       "      <td>CENTRAL</td>\n",
       "      <td>RESIDENTIAL</td>\n",
       "      <td>3:45AM</td>\n",
       "      <td>12/4/2018</td>\n",
       "      <td>I16</td>\n",
       "      <td>12/4/2018</td>\n",
       "      <td>ROBBERY</td>\n",
       "      <td>P18228497</td>\n",
       "    </tr>\n",
       "    <tr>\n",
       "      <th>2</th>\n",
       "      <td>160498</td>\n",
       "      <td>3600 BLOCK NYE AVE</td>\n",
       "      <td>WEST</td>\n",
       "      <td>MISCELLANEOUS</td>\n",
       "      <td>3:38AM</td>\n",
       "      <td>12/4/2018</td>\n",
       "      <td>J12</td>\n",
       "      <td>12/4/2018</td>\n",
       "      <td>VANDALISM</td>\n",
       "      <td>P18228495</td>\n",
       "    </tr>\n",
       "    <tr>\n",
       "      <th>3</th>\n",
       "      <td>160497</td>\n",
       "      <td>GOLDEN AVE/ TURNINGBEN WAY</td>\n",
       "      <td>WEST</td>\n",
       "      <td>HIGHWAYS</td>\n",
       "      <td>3:30AM</td>\n",
       "      <td>12/4/2018</td>\n",
       "      <td>H04</td>\n",
       "      <td>12/4/2018</td>\n",
       "      <td>OTHER</td>\n",
       "      <td>P18228490</td>\n",
       "    </tr>\n",
       "    <tr>\n",
       "      <th>4</th>\n",
       "      <td>160496</td>\n",
       "      <td>2500 BLOCK 14TH ST</td>\n",
       "      <td>EAST</td>\n",
       "      <td>RESIDENTIAL</td>\n",
       "      <td>10:55PM</td>\n",
       "      <td>12/3/2018</td>\n",
       "      <td>D02</td>\n",
       "      <td>12/3/2018</td>\n",
       "      <td>ASSAULT</td>\n",
       "      <td>P18228421</td>\n",
       "    </tr>\n",
       "  </tbody>\n",
       "</table>\n",
       "</div>"
      ],
      "text/plain": [
       "      _id                blockAddress      npc        premise  callTime  \\\n",
       "0  160500      4700 BLOCK BEVERLY CT     NORTH    RESIDENTIAL    5:36AM   \n",
       "1  160499     9300 BLOCK INDIANA AVE   CENTRAL    RESIDENTIAL    3:45AM   \n",
       "2  160498         3600 BLOCK NYE AVE      WEST  MISCELLANEOUS    3:38AM   \n",
       "3  160497  GOLDEN AVE/ TURNINGBEN WAY     WEST       HIGHWAYS    3:30AM   \n",
       "4  160496         2500 BLOCK 14TH ST      EAST    RESIDENTIAL   10:55PM   \n",
       "\n",
       "  reportDate   rd offenseDate         crimeType caseNumber  \n",
       "0  12/4/2018  E02   12/3/2018  MOTOR VEH. THEFT  P18228509  \n",
       "1  12/4/2018  I16   12/4/2018           ROBBERY  P18228497  \n",
       "2  12/4/2018  J12   12/4/2018         VANDALISM  P18228495  \n",
       "3  12/4/2018  H04   12/4/2018             OTHER  P18228490  \n",
       "4  12/3/2018  D02   12/3/2018           ASSAULT  P18228421  "
      ]
     },
     "execution_count": 1,
     "metadata": {},
     "output_type": "execute_result"
    }
   ],
   "source": [
    "import pandas as pd\n",
    "import numpy as np\n",
    "df = pd.read_csv(\"project/Crime_Reports.csv\")\n",
    "df.head()"
   ]
  },
  {
   "cell_type": "markdown",
   "metadata": {
    "colab_type": "text",
    "id": "24fRMKkZgc1_"
   },
   "source": [
    "**Taken from the Riverside City data**: https://riversideca.gov/transparency/data/dataset/show/27/Crime_Reports?fbclid=IwAR3Lq1fsYQYDC96bSmoczD8NH4Wnuc-b-DkBa0dl5GTtwdI2HHi3w_0313E\n",
    "\n",
    "Each row represents a crime reported to Riverside Police Department. The City of Riverside is divided into four (4) Command Areas referred to as Neighborhood Policing Centers (NPC). They are the NORTH; EAST; WEST; and CENTRAL NPCs. Within NPCs are smaller areas called Police Reporting Districts (RD). There are 134 RDs in the City. Crime Statistics available on this site have been compiled and presented based on these areas.\n",
    "\n",
    "Update Frequency: Daily at 06:00\n",
    "\n",
    "**Column Descriptions**:\n",
    "- **caseNumber**: This is the unique identifier for each record.\n",
    "- **reportDate**: The date the crime was reported.  This date is in \"yyyy-MM-dd\" format.\n",
    "- **offenseDate**: The date the crime was occurred.  This date is in \"yyyy-MM-dd\" format.\n",
    "- **callTime**: The timethe crime was reported.  This date is in \"hh:mm a\" format.\n",
    "- **crimeType**: The type of crime.\n",
    "- **premise**: The type of premise where the crime occurred.\n",
    "- **blockAddress**: The address of the incident, which is \"masked\" at the hundred block level to protect any victim information.\n",
    "- **rd**: The reporting district, which are boundaries setup within the City for compiling crime statistics. There are 134 RDs in the City.\n",
    "- **npc**: The Neighborhood Policing Center.  There are four policing centers: NORTH, EAST, WEST, and CENTRAL."
   ]
  },
  {
   "cell_type": "markdown",
   "metadata": {
    "colab_type": "text",
    "id": "24fRMKkZgc1_"
   },
   "source": [
    "### Part 2: Dataset cleaning"
   ]
  },
  {
   "cell_type": "code",
   "execution_count": 2,
   "metadata": {},
   "outputs": [
    {
     "data": {
      "text/html": [
       "<div>\n",
       "<style scoped>\n",
       "    .dataframe tbody tr th:only-of-type {\n",
       "        vertical-align: middle;\n",
       "    }\n",
       "\n",
       "    .dataframe tbody tr th {\n",
       "        vertical-align: top;\n",
       "    }\n",
       "\n",
       "    .dataframe thead th {\n",
       "        text-align: right;\n",
       "    }\n",
       "</style>\n",
       "<table border=\"1\" class=\"dataframe\">\n",
       "  <thead>\n",
       "    <tr style=\"text-align: right;\">\n",
       "      <th></th>\n",
       "      <th>offenseDate</th>\n",
       "      <th>crimeType</th>\n",
       "      <th>premise</th>\n",
       "      <th>blockAddress</th>\n",
       "    </tr>\n",
       "  </thead>\n",
       "  <tbody>\n",
       "    <tr>\n",
       "      <th>0</th>\n",
       "      <td>12/3/2018</td>\n",
       "      <td>MOTOR VEH. THEFT</td>\n",
       "      <td>RESIDENTIAL</td>\n",
       "      <td>4700 BLOCK BEVERLY CT</td>\n",
       "    </tr>\n",
       "    <tr>\n",
       "      <th>1</th>\n",
       "      <td>12/4/2018</td>\n",
       "      <td>ROBBERY</td>\n",
       "      <td>RESIDENTIAL</td>\n",
       "      <td>9300 BLOCK INDIANA AVE</td>\n",
       "    </tr>\n",
       "    <tr>\n",
       "      <th>2</th>\n",
       "      <td>12/4/2018</td>\n",
       "      <td>VANDALISM</td>\n",
       "      <td>MISCELLANEOUS</td>\n",
       "      <td>3600 BLOCK NYE AVE</td>\n",
       "    </tr>\n",
       "    <tr>\n",
       "      <th>3</th>\n",
       "      <td>12/4/2018</td>\n",
       "      <td>OTHER</td>\n",
       "      <td>HIGHWAYS</td>\n",
       "      <td>GOLDEN AVE/ TURNINGBEN WAY</td>\n",
       "    </tr>\n",
       "    <tr>\n",
       "      <th>4</th>\n",
       "      <td>12/3/2018</td>\n",
       "      <td>ASSAULT</td>\n",
       "      <td>RESIDENTIAL</td>\n",
       "      <td>2500 BLOCK 14TH ST</td>\n",
       "    </tr>\n",
       "    <tr>\n",
       "      <th>...</th>\n",
       "      <td>...</td>\n",
       "      <td>...</td>\n",
       "      <td>...</td>\n",
       "      <td>...</td>\n",
       "    </tr>\n",
       "    <tr>\n",
       "      <th>157646</th>\n",
       "      <td>12/3/2018</td>\n",
       "      <td>BURGLARY</td>\n",
       "      <td>RESIDENTIAL</td>\n",
       "      <td>8100 BLOCK  DIANA AVE</td>\n",
       "    </tr>\n",
       "    <tr>\n",
       "      <th>157647</th>\n",
       "      <td>11/27/2018</td>\n",
       "      <td>THEFT</td>\n",
       "      <td>MISCELLANEOUS</td>\n",
       "      <td>6400 BLOCK  FREMONT</td>\n",
       "    </tr>\n",
       "    <tr>\n",
       "      <th>157648</th>\n",
       "      <td>12/3/2018</td>\n",
       "      <td>MOTOR VEH. THEFT</td>\n",
       "      <td>HIGHWAYS</td>\n",
       "      <td>2300 BLOCK  5TH</td>\n",
       "    </tr>\n",
       "    <tr>\n",
       "      <th>157649</th>\n",
       "      <td>12/4/2018</td>\n",
       "      <td>MOTOR VEH. THEFT</td>\n",
       "      <td>COMM - Other</td>\n",
       "      <td>800 BLOCK LA CADENA DR</td>\n",
       "    </tr>\n",
       "    <tr>\n",
       "      <th>157650</th>\n",
       "      <td>11/3/2018</td>\n",
       "      <td>THEFT</td>\n",
       "      <td>MISCELLANEOUS</td>\n",
       "      <td>2600 BLOCK CANYON SPRINGS PKWY</td>\n",
       "    </tr>\n",
       "  </tbody>\n",
       "</table>\n",
       "<p>157651 rows × 4 columns</p>\n",
       "</div>"
      ],
      "text/plain": [
       "       offenseDate         crimeType        premise  \\\n",
       "0        12/3/2018  MOTOR VEH. THEFT    RESIDENTIAL   \n",
       "1        12/4/2018           ROBBERY    RESIDENTIAL   \n",
       "2        12/4/2018         VANDALISM  MISCELLANEOUS   \n",
       "3        12/4/2018             OTHER       HIGHWAYS   \n",
       "4        12/3/2018           ASSAULT    RESIDENTIAL   \n",
       "...            ...               ...            ...   \n",
       "157646   12/3/2018          BURGLARY    RESIDENTIAL   \n",
       "157647  11/27/2018             THEFT  MISCELLANEOUS   \n",
       "157648   12/3/2018  MOTOR VEH. THEFT       HIGHWAYS   \n",
       "157649   12/4/2018  MOTOR VEH. THEFT   COMM - Other   \n",
       "157650   11/3/2018             THEFT  MISCELLANEOUS   \n",
       "\n",
       "                          blockAddress  \n",
       "0               4700 BLOCK BEVERLY CT   \n",
       "1              9300 BLOCK INDIANA AVE   \n",
       "2                  3600 BLOCK NYE AVE   \n",
       "3           GOLDEN AVE/ TURNINGBEN WAY  \n",
       "4                  2500 BLOCK 14TH ST   \n",
       "...                                ...  \n",
       "157646           8100 BLOCK  DIANA AVE  \n",
       "157647             6400 BLOCK  FREMONT  \n",
       "157648                 2300 BLOCK  5TH  \n",
       "157649          800 BLOCK LA CADENA DR  \n",
       "157650  2600 BLOCK CANYON SPRINGS PKWY  \n",
       "\n",
       "[157651 rows x 4 columns]"
      ]
     },
     "execution_count": 2,
     "metadata": {},
     "output_type": "execute_result"
    }
   ],
   "source": [
    "reports_df = df[[\"offenseDate\",\"crimeType\",\"premise\",\"blockAddress\"]].copy()\n",
    "reports_df"
   ]
  },
  {
   "cell_type": "markdown",
   "metadata": {
    "colab_type": "text",
    "id": "24fRMKkZgc1_"
   },
   "source": [
    "Looking at the variables that this dataset provides, we first want to remove the ones that don't feel relevant to the results that we want to show. In our project, we want to see if there is a correlation between the crime activity around certain areas versus the demographic of the area itself. With that, we probably would want information of the crime itself, rather than the report. So we keep variables like **offenseDate**, **crimeType**, **premise**, **blockAddress**, and **npc**"
   ]
  },
  {
   "cell_type": "code",
   "execution_count": 3,
   "metadata": {},
   "outputs": [],
   "source": [
    "reports_df['offenseDate'].replace('', np.nan, inplace=True)\n",
    "reports_df = reports_df.dropna(subset=['offenseDate'])"
   ]
  },
  {
   "cell_type": "markdown",
   "metadata": {
    "colab_type": "text",
    "id": "24fRMKkZgc1_"
   },
   "source": [
    "For **offenseDate** and **blockAddress**, we want to see if there are any missing or invalid data for these rows. We see that there are x amount of missing values for **offenseDate**. Because it is a small number of data that is missing (117 out of 150,000+ reports, we can just drop these rows as this small amount only accounts for 0.074% of the overall dataset"
   ]
  },
  {
   "cell_type": "markdown",
   "metadata": {
    "colab_type": "text",
    "id": "24fRMKkZgc1_"
   },
   "source": [
    "### Part 3: Dataset EDA"
   ]
  },
  {
   "cell_type": "code",
   "execution_count": 4,
   "metadata": {},
   "outputs": [
    {
     "name": "stdout",
     "output_type": "stream",
     "text": [
      "Unique Values in crimeType:  ['MOTOR VEH. THEFT' 'ROBBERY' 'VANDALISM' 'OTHER' 'ASSAULT' 'THEFT'\n",
      " 'BURGLARY' 'FRAUD' 'DRUGS/ALCOHOL VIOLATIONS' 'WEAPONS' 'SEX CRIMES'\n",
      " 'DISTURBING THE PEACE' 'unk' 'HOMICIDE']\n"
     ]
    },
    {
     "data": {
      "text/plain": [
       "<matplotlib.axes._subplots.AxesSubplot at 0x7fd44206fe10>"
      ]
     },
     "execution_count": 4,
     "metadata": {},
     "output_type": "execute_result"
    },
    {
     "data": {
      "image/png": "[encoded data removed]",
      "text/plain": [
       "<Figure size 432x288 with 1 Axes>"
      ]
     },
     "metadata": {
      "needs_background": "light"
     },
     "output_type": "display_data"
    }
   ],
   "source": [
    "print(\"Unique Values in crimeType: \", reports_df.crimeType.unique())\n",
    "crime_counts = reports_df.crimeType.value_counts()\n",
    "crime_counts.plot.barh()"
   ]
  },
  {
   "cell_type": "code",
   "execution_count": 5,
   "metadata": {},
   "outputs": [
    {
     "name": "stdout",
     "output_type": "stream",
     "text": [
      "Unique Values in premise:  ['RESIDENTIAL' 'MISCELLANEOUS' 'HIGHWAYS' 'COMM - Other' 'COMM - Gas Stn'\n",
      " 'COMM - Conv Store' 'COMM - Bank' 'unk']\n"
     ]
    },
    {
     "data": {
      "text/plain": [
       "<matplotlib.axes._subplots.AxesSubplot at 0x7fd43fceef28>"
      ]
     },
     "execution_count": 5,
     "metadata": {},
     "output_type": "execute_result"
    },
    {
     "data": {
      "image/png": "[encoded data removed]",
      "text/plain": [
       "<Figure size 432x288 with 1 Axes>"
      ]
     },
     "metadata": {
      "needs_background": "light"
     },
     "output_type": "display_data"
    }
   ],
   "source": [
    "print(\"Unique Values in premise: \", reports_df.premise.unique())\n",
    "premise_counts = reports_df.premise.value_counts()\n",
    "premise_counts.plot.barh()"
   ]
  },
  {
   "cell_type": "markdown",
   "metadata": {
    "colab_type": "text",
    "id": "24fRMKkZgc1_"
   },
   "source": [
    "From this dataframe, we then also want to see what kinds of distribution of variables we are dealing with. For things such as **offenseDate** and **blockAddress**, it's easy to see that there is a finite  but too many variables to process individually. For things like **crimeType**, and **premise**, there is a smaller amount of variables to play around with, so we want to view these variables to see what we are working with.\n",
    "\n",
    "We can see the common crime types (Other than other, theft and assault) as well as the common premises of crime (highways and residential) that happened in these areas.\n",
    "\n",
    "There is not much we can do in terms of EDA except for plotting out frequencies and occurences for this dataset as it is mostly categorical. Plots such as scatter plots, pair-wise scatter plot, a parallel coordinates plot, and a box-plot cannot work well for categorical variables. "
   ]
  },
  {
   "cell_type": "markdown",
   "metadata": {
    "colab_type": "text",
    "id": "24fRMKkZgc1_"
   },
   "source": [
    "# Yelp Restaurants in Riverside Dataset Cleaning\n",
    "### Part 1: Dataset info "
   ]
  },
  {
   "cell_type": "markdown",
   "metadata": {
    "colab_type": "text",
    "id": "24fRMKkZgc1_"
   },
   "source": [
    "Using Yelp's free API, I managed to gather up to 500 local restaurants in Riverside county, along with their price ranges, ratings, review counts, and addresses. Below is a dataframe."
   ]
  },
  {
   "cell_type": "code",
   "execution_count": 6,
   "metadata": {},
   "outputs": [
    {
     "data": {
      "text/html": [
       "<div>\n",
       "<style scoped>\n",
       "    .dataframe tbody tr th:only-of-type {\n",
       "        vertical-align: middle;\n",
       "    }\n",
       "\n",
       "    .dataframe tbody tr th {\n",
       "        vertical-align: top;\n",
       "    }\n",
       "\n",
       "    .dataframe thead th {\n",
       "        text-align: right;\n",
       "    }\n",
       "</style>\n",
       "<table border=\"1\" class=\"dataframe\">\n",
       "  <thead>\n",
       "    <tr style=\"text-align: right;\">\n",
       "      <th></th>\n",
       "      <th>name</th>\n",
       "      <th>price</th>\n",
       "      <th>rating</th>\n",
       "      <th>review_count</th>\n",
       "      <th>address</th>\n",
       "      <th>city</th>\n",
       "      <th>state</th>\n",
       "      <th>zip_code</th>\n",
       "    </tr>\n",
       "  </thead>\n",
       "  <tbody>\n",
       "    <tr>\n",
       "      <th>0</th>\n",
       "      <td>Diablos Micheladas Mexican Grill</td>\n",
       "      <td>$$</td>\n",
       "      <td>4.0</td>\n",
       "      <td>19</td>\n",
       "      <td>8304 Limonite Ave</td>\n",
       "      <td>Riverside</td>\n",
       "      <td>CA</td>\n",
       "      <td>92509</td>\n",
       "    </tr>\n",
       "    <tr>\n",
       "      <th>1</th>\n",
       "      <td>Sushi R91</td>\n",
       "      <td>$$</td>\n",
       "      <td>4.0</td>\n",
       "      <td>417</td>\n",
       "      <td>1630 Spruce St</td>\n",
       "      <td>Riverside</td>\n",
       "      <td>CA</td>\n",
       "      <td>92507</td>\n",
       "    </tr>\n",
       "    <tr>\n",
       "      <th>2</th>\n",
       "      <td>Placita</td>\n",
       "      <td>$$</td>\n",
       "      <td>4.0</td>\n",
       "      <td>182</td>\n",
       "      <td>1805 University Ave</td>\n",
       "      <td>Riverside</td>\n",
       "      <td>CA</td>\n",
       "      <td>92507</td>\n",
       "    </tr>\n",
       "    <tr>\n",
       "      <th>3</th>\n",
       "      <td>Rockstar Shrimp</td>\n",
       "      <td>$$</td>\n",
       "      <td>4.0</td>\n",
       "      <td>434</td>\n",
       "      <td>767 W Blaine St</td>\n",
       "      <td>Riverside</td>\n",
       "      <td>CA</td>\n",
       "      <td>92507</td>\n",
       "    </tr>\n",
       "    <tr>\n",
       "      <th>4</th>\n",
       "      <td>Yard House</td>\n",
       "      <td>$$</td>\n",
       "      <td>3.5</td>\n",
       "      <td>876</td>\n",
       "      <td>3775 Tyler St</td>\n",
       "      <td>Riverside</td>\n",
       "      <td>CA</td>\n",
       "      <td>92503</td>\n",
       "    </tr>\n",
       "    <tr>\n",
       "      <th>...</th>\n",
       "      <td>...</td>\n",
       "      <td>...</td>\n",
       "      <td>...</td>\n",
       "      <td>...</td>\n",
       "      <td>...</td>\n",
       "      <td>...</td>\n",
       "      <td>...</td>\n",
       "      <td>...</td>\n",
       "    </tr>\n",
       "    <tr>\n",
       "      <th>495</th>\n",
       "      <td>Baker's Drive-Thru</td>\n",
       "      <td>$</td>\n",
       "      <td>3.0</td>\n",
       "      <td>84</td>\n",
       "      <td>2221 Main St</td>\n",
       "      <td>Riverside</td>\n",
       "      <td>CA</td>\n",
       "      <td>92501</td>\n",
       "    </tr>\n",
       "    <tr>\n",
       "      <th>496</th>\n",
       "      <td>McDonald's</td>\n",
       "      <td>$</td>\n",
       "      <td>1.5</td>\n",
       "      <td>123</td>\n",
       "      <td>7474 Indiana St</td>\n",
       "      <td>Riverside</td>\n",
       "      <td>CA</td>\n",
       "      <td>92504</td>\n",
       "    </tr>\n",
       "    <tr>\n",
       "      <th>497</th>\n",
       "      <td>Burger King</td>\n",
       "      <td>$</td>\n",
       "      <td>3.5</td>\n",
       "      <td>4</td>\n",
       "      <td>5200 van buren blvd</td>\n",
       "      <td>Riverside</td>\n",
       "      <td>CA</td>\n",
       "      <td>92503</td>\n",
       "    </tr>\n",
       "    <tr>\n",
       "      <th>498</th>\n",
       "      <td>Fast 5 Pizza</td>\n",
       "      <td>$</td>\n",
       "      <td>3.5</td>\n",
       "      <td>30</td>\n",
       "      <td>1889 University Ave</td>\n",
       "      <td>Riverside</td>\n",
       "      <td>CA</td>\n",
       "      <td>92507</td>\n",
       "    </tr>\n",
       "    <tr>\n",
       "      <th>499</th>\n",
       "      <td>Fries Galore</td>\n",
       "      <td>$$</td>\n",
       "      <td>4.5</td>\n",
       "      <td>69</td>\n",
       "      <td>13188 Main St</td>\n",
       "      <td>Hesperia</td>\n",
       "      <td>CA</td>\n",
       "      <td>92345</td>\n",
       "    </tr>\n",
       "  </tbody>\n",
       "</table>\n",
       "<p>500 rows × 8 columns</p>\n",
       "</div>"
      ],
      "text/plain": [
       "                                 name price  rating  review_count  \\\n",
       "0    Diablos Micheladas Mexican Grill    $$     4.0            19   \n",
       "1                           Sushi R91    $$     4.0           417   \n",
       "2                             Placita    $$     4.0           182   \n",
       "3                     Rockstar Shrimp    $$     4.0           434   \n",
       "4                          Yard House    $$     3.5           876   \n",
       "..                                ...   ...     ...           ...   \n",
       "495                Baker's Drive-Thru     $     3.0            84   \n",
       "496                        McDonald's     $     1.5           123   \n",
       "497                       Burger King     $     3.5             4   \n",
       "498                      Fast 5 Pizza     $     3.5            30   \n",
       "499                      Fries Galore    $$     4.5            69   \n",
       "\n",
       "                 address       city state zip_code  \n",
       "0      8304 Limonite Ave  Riverside    CA    92509  \n",
       "1         1630 Spruce St  Riverside    CA    92507  \n",
       "2    1805 University Ave  Riverside    CA    92507  \n",
       "3        767 W Blaine St  Riverside    CA    92507  \n",
       "4          3775 Tyler St  Riverside    CA    92503  \n",
       "..                   ...        ...   ...      ...  \n",
       "495         2221 Main St  Riverside    CA    92501  \n",
       "496      7474 Indiana St  Riverside    CA    92504  \n",
       "497  5200 van buren blvd  Riverside    CA    92503  \n",
       "498  1889 University Ave  Riverside    CA    92507  \n",
       "499        13188 Main St   Hesperia    CA    92345  \n",
       "\n",
       "[500 rows x 8 columns]"
      ]
     },
     "execution_count": 6,
     "metadata": {},
     "output_type": "execute_result"
    }
   ],
   "source": [
    "import pandas as pd\n",
    "import matplotlib.pyplot as plt\n",
    "from mpl_toolkits.mplot3d import Axes3D\n",
    "import matplotlib as mpl\n",
    "import numpy as np\n",
    "import seaborn as sns\n",
    "import csv\n",
    "import math\n",
    "%matplotlib inline\n",
    "\n",
    "df = pd.read_csv('project/Yelp/restaurants.csv')\n",
    "df = df.replace(np.nan, 0.0, regex=True)\n",
    "df"
   ]
  },
  {
   "cell_type": "markdown",
   "metadata": {
    "colab_type": "text",
    "id": "24fRMKkZgc1_"
   },
   "source": [
    "### Part 2: Dataset cleaning and EDA"
   ]
  },
  {
   "cell_type": "markdown",
   "metadata": {
    "colab_type": "text",
    "id": "24fRMKkZgc1_"
   },
   "source": [
    "Organizing by price, we get the following. (NOTE: We'll use a simple bar chart to best visualize this data.)"
   ]
  },
  {
   "cell_type": "code",
   "execution_count": 7,
   "metadata": {},
   "outputs": [
    {
     "name": "stdout",
     "output_type": "stream",
     "text": [
      "$:  280\n",
      "$$:  164\n",
      "$$$:  2\n",
      "N/A:  54\n"
     ]
    },
    {
     "data": {
      "image/png": "[encoded data removed]",
      "text/plain": [
       "<Figure size 432x288 with 1 Axes>"
      ]
     },
     "metadata": {
      "needs_background": "light"
     },
     "output_type": "display_data"
    }
   ],
   "source": [
    "single = df.price[df.price == '$'].count()\n",
    "double = df.price[df.price == '$$'].count()\n",
    "triple = df.price[df.price == '$$$'].count()\n",
    "# combine = single + double + triple\n",
    "# none = 500 - combine\n",
    "none = df.price[df.price == 0].count()\n",
    "\n",
    "print(\"$: \", single)\n",
    "print(\"$$: \", double)\n",
    "print(\"$$$: \", triple)\n",
    "print(\"N/A: \", none)\n",
    "\n",
    "data = [single, double, triple, none]\n",
    "plt.bar([\"\\$\", \"\\$\\$\", \"\\$\\$\\$\", \"None\"], data)\n",
    "plt.title('Price Range Counts by Yelp Dollar Sign')\n",
    "plt.xlabel('Price')\n",
    "plt.ylabel('Count')\n",
    "plt.show()"
   ]
  },
  {
   "cell_type": "markdown",
   "metadata": {
    "colab_type": "text",
    "id": "24fRMKkZgc1_"
   },
   "source": [
    "We'll now observe the correlation between restaurant ratings and their review counts."
   ]
  },
  {
   "cell_type": "code",
   "execution_count": 8,
   "metadata": {},
   "outputs": [
    {
     "data": {
      "image/png": "[encoded data removed]",
      "text/plain": [
       "<Figure size 432x288 with 1 Axes>"
      ]
     },
     "metadata": {
      "needs_background": "light"
     },
     "output_type": "display_data"
    }
   ],
   "source": [
    "plt.scatter(x=df['review_count'], y=df['rating'])\n",
    "plt.xlabel(\"Number of Reviews\")\n",
    "plt.ylabel(\"Average Rating\")\n",
    "plt.show()"
   ]
  },
  {
   "cell_type": "markdown",
   "metadata": {
    "colab_type": "text",
    "id": "24fRMKkZgc1_"
   },
   "source": [
    "We can see that very few restaurants have over 600 reviews. Let's filter this down from 0 to 600 reviews for clarity."
   ]
  },
  {
   "cell_type": "code",
   "execution_count": 9,
   "metadata": {},
   "outputs": [
    {
     "data": {
      "image/png": "[encoded data removed]",
      "text/plain": [
       "<Figure size 432x288 with 1 Axes>"
      ]
     },
     "metadata": {
      "needs_background": "light"
     },
     "output_type": "display_data"
    }
   ],
   "source": [
    "df2 = pd.read_csv('project/Yelp/restaurants.csv')\n",
    "df2 = df2[df2['review_count'] < 600]\n",
    "\n",
    "plt.scatter(x=df2['review_count'], y=df2['rating'])\n",
    "plt.xlabel(\"Number of Reviews\")\n",
    "plt.ylabel(\"Average Rating\")\n",
    "plt.show()"
   ]
  },
  {
   "cell_type": "markdown",
   "metadata": {
    "colab_type": "text",
    "id": "24fRMKkZgc1_"
   },
   "source": [
    "We can see that the majority of ratings are around 3 to 4 stars. This is an average measurement, nothing too special. A handful of reviews are below 3 stars as well. Now that we've made an inference based on the graph, we output the total number of review partitions below:"
   ]
  },
  {
   "cell_type": "code",
   "execution_count": 10,
   "metadata": {},
   "outputs": [
    {
     "name": "stdout",
     "output_type": "stream",
     "text": [
      "Reviews\n",
      "1.0:  0\n",
      "1.5:  4\n",
      "2.0:  11\n",
      "2.5:  27\n",
      "3.0:  73\n",
      "3.5:  137\n",
      "4.0:  155\n",
      "4.5:  61\n",
      "5.0:  32\n"
     ]
    },
    {
     "data": {
      "image/png": "[encoded data removed]",
      "text/plain": [
       "<Figure size 432x288 with 1 Axes>"
      ]
     },
     "metadata": {
      "needs_background": "light"
     },
     "output_type": "display_data"
    }
   ],
   "source": [
    "r1 = df.price[df.rating == 1.0].count()\n",
    "r15 = df.price[df.rating == 1.5].count()\n",
    "r2 = df.price[df.rating == 2.0].count()\n",
    "r25 = df.price[df.rating == 2.5].count()\n",
    "r3 = df.price[df.rating == 3.0].count()\n",
    "r35 = df.price[df.rating == 3.5].count()\n",
    "r4 = df.price[df.rating == 4.0].count()\n",
    "r45 = df.price[df.rating == 4.5].count()\n",
    "r5 = df.price[df.rating == 5.0].count()\n",
    "print(\"Reviews\")\n",
    "print(\"1.0: \", r1)\n",
    "print(\"1.5: \", r15)\n",
    "print(\"2.0: \", r2)\n",
    "print(\"2.5: \", r25)\n",
    "print(\"3.0: \", r3)\n",
    "print(\"3.5: \", r35)\n",
    "print(\"4.0: \", r4)\n",
    "print(\"4.5: \", r45)\n",
    "print(\"5.0: \", r5)\n",
    "data2 = [r1, r15, r2, r25, r3, r35, r4, r45, r5]\n",
    "plt.bar([\"1.0\", \"1.5\", \"2.0\", \"2.5\", \"3.0\", \"3.5\", \"4.0\", \"4.5\", \"5.0\"], data2)\n",
    "plt.title('Ratings')\n",
    "plt.xlabel('Rating')\n",
    "plt.ylabel('Count')\n",
    "plt.show()"
   ]
  },
  {
   "cell_type": "markdown",
   "metadata": {
    "colab_type": "text",
    "id": "24fRMKkZgc1_"
   },
   "source": [
    "Let's examine the review counts, but with single dollar sign (cheap) restaurants, since more people tend to go to cheaper restaurants."
   ]
  },
  {
   "cell_type": "code",
   "execution_count": 11,
   "metadata": {},
   "outputs": [
    {
     "data": {
      "text/html": [
       "<div>\n",
       "<style scoped>\n",
       "    .dataframe tbody tr th:only-of-type {\n",
       "        vertical-align: middle;\n",
       "    }\n",
       "\n",
       "    .dataframe tbody tr th {\n",
       "        vertical-align: top;\n",
       "    }\n",
       "\n",
       "    .dataframe thead th {\n",
       "        text-align: right;\n",
       "    }\n",
       "</style>\n",
       "<table border=\"1\" class=\"dataframe\">\n",
       "  <thead>\n",
       "    <tr style=\"text-align: right;\">\n",
       "      <th></th>\n",
       "      <th>name</th>\n",
       "      <th>price</th>\n",
       "      <th>rating</th>\n",
       "      <th>review_count</th>\n",
       "      <th>address</th>\n",
       "      <th>city</th>\n",
       "      <th>state</th>\n",
       "      <th>zip_code</th>\n",
       "    </tr>\n",
       "  </thead>\n",
       "  <tbody>\n",
       "    <tr>\n",
       "      <th>12</th>\n",
       "      <td>Royal Orchid Thai Restaurant</td>\n",
       "      <td>$</td>\n",
       "      <td>4.0</td>\n",
       "      <td>327</td>\n",
       "      <td>9791 Magnolia Ave</td>\n",
       "      <td>Riverside</td>\n",
       "      <td>CA</td>\n",
       "      <td>92503</td>\n",
       "    </tr>\n",
       "    <tr>\n",
       "      <th>18</th>\n",
       "      <td>Taco Station</td>\n",
       "      <td>$</td>\n",
       "      <td>4.0</td>\n",
       "      <td>590</td>\n",
       "      <td>4088 Mission Inn Ave</td>\n",
       "      <td>Riverside</td>\n",
       "      <td>CA</td>\n",
       "      <td>92501</td>\n",
       "    </tr>\n",
       "    <tr>\n",
       "      <th>22</th>\n",
       "      <td>Taqueria 2 Potrillos - Riverside</td>\n",
       "      <td>$</td>\n",
       "      <td>4.0</td>\n",
       "      <td>97</td>\n",
       "      <td>10088 Magnolia Ave</td>\n",
       "      <td>Riverside</td>\n",
       "      <td>CA</td>\n",
       "      <td>92503</td>\n",
       "    </tr>\n",
       "    <tr>\n",
       "      <th>24</th>\n",
       "      <td>D'caesaro Pizza &amp; Italian Restaurant</td>\n",
       "      <td>$</td>\n",
       "      <td>4.5</td>\n",
       "      <td>372</td>\n",
       "      <td>6160 Arlington Ave</td>\n",
       "      <td>Riverside</td>\n",
       "      <td>CA</td>\n",
       "      <td>92504</td>\n",
       "    </tr>\n",
       "    <tr>\n",
       "      <th>29</th>\n",
       "      <td>El Trigo</td>\n",
       "      <td>$</td>\n",
       "      <td>4.5</td>\n",
       "      <td>386</td>\n",
       "      <td>4155 Park Ave</td>\n",
       "      <td>Riverside</td>\n",
       "      <td>CA</td>\n",
       "      <td>92507</td>\n",
       "    </tr>\n",
       "    <tr>\n",
       "      <th>...</th>\n",
       "      <td>...</td>\n",
       "      <td>...</td>\n",
       "      <td>...</td>\n",
       "      <td>...</td>\n",
       "      <td>...</td>\n",
       "      <td>...</td>\n",
       "      <td>...</td>\n",
       "      <td>...</td>\n",
       "    </tr>\n",
       "    <tr>\n",
       "      <th>494</th>\n",
       "      <td>Church's Chicken</td>\n",
       "      <td>$</td>\n",
       "      <td>2.0</td>\n",
       "      <td>101</td>\n",
       "      <td>1886 University Ave</td>\n",
       "      <td>Riverside</td>\n",
       "      <td>CA</td>\n",
       "      <td>92507</td>\n",
       "    </tr>\n",
       "    <tr>\n",
       "      <th>495</th>\n",
       "      <td>Baker's Drive-Thru</td>\n",
       "      <td>$</td>\n",
       "      <td>3.0</td>\n",
       "      <td>84</td>\n",
       "      <td>2221 Main St</td>\n",
       "      <td>Riverside</td>\n",
       "      <td>CA</td>\n",
       "      <td>92501</td>\n",
       "    </tr>\n",
       "    <tr>\n",
       "      <th>496</th>\n",
       "      <td>McDonald's</td>\n",
       "      <td>$</td>\n",
       "      <td>1.5</td>\n",
       "      <td>123</td>\n",
       "      <td>7474 Indiana St</td>\n",
       "      <td>Riverside</td>\n",
       "      <td>CA</td>\n",
       "      <td>92504</td>\n",
       "    </tr>\n",
       "    <tr>\n",
       "      <th>497</th>\n",
       "      <td>Burger King</td>\n",
       "      <td>$</td>\n",
       "      <td>3.5</td>\n",
       "      <td>4</td>\n",
       "      <td>5200 van buren blvd</td>\n",
       "      <td>Riverside</td>\n",
       "      <td>CA</td>\n",
       "      <td>92503</td>\n",
       "    </tr>\n",
       "    <tr>\n",
       "      <th>498</th>\n",
       "      <td>Fast 5 Pizza</td>\n",
       "      <td>$</td>\n",
       "      <td>3.5</td>\n",
       "      <td>30</td>\n",
       "      <td>1889 University Ave</td>\n",
       "      <td>Riverside</td>\n",
       "      <td>CA</td>\n",
       "      <td>92507</td>\n",
       "    </tr>\n",
       "  </tbody>\n",
       "</table>\n",
       "<p>280 rows × 8 columns</p>\n",
       "</div>"
      ],
      "text/plain": [
       "                                     name price  rating  review_count  \\\n",
       "12           Royal Orchid Thai Restaurant     $     4.0           327   \n",
       "18                           Taco Station     $     4.0           590   \n",
       "22       Taqueria 2 Potrillos - Riverside     $     4.0            97   \n",
       "24   D'caesaro Pizza & Italian Restaurant     $     4.5           372   \n",
       "29                               El Trigo     $     4.5           386   \n",
       "..                                    ...   ...     ...           ...   \n",
       "494                      Church's Chicken     $     2.0           101   \n",
       "495                    Baker's Drive-Thru     $     3.0            84   \n",
       "496                            McDonald's     $     1.5           123   \n",
       "497                           Burger King     $     3.5             4   \n",
       "498                          Fast 5 Pizza     $     3.5            30   \n",
       "\n",
       "                  address       city state zip_code  \n",
       "12      9791 Magnolia Ave  Riverside    CA    92503  \n",
       "18   4088 Mission Inn Ave  Riverside    CA    92501  \n",
       "22     10088 Magnolia Ave  Riverside    CA    92503  \n",
       "24     6160 Arlington Ave  Riverside    CA    92504  \n",
       "29          4155 Park Ave  Riverside    CA    92507  \n",
       "..                    ...        ...   ...      ...  \n",
       "494   1886 University Ave  Riverside    CA    92507  \n",
       "495          2221 Main St  Riverside    CA    92501  \n",
       "496       7474 Indiana St  Riverside    CA    92504  \n",
       "497   5200 van buren blvd  Riverside    CA    92503  \n",
       "498   1889 University Ave  Riverside    CA    92507  \n",
       "\n",
       "[280 rows x 8 columns]"
      ]
     },
     "execution_count": 11,
     "metadata": {},
     "output_type": "execute_result"
    }
   ],
   "source": [
    "df3 = pd.read_csv('project/Yelp/restaurants.csv')\n",
    "df3 = df3[df3['price'] == '$']\n",
    "df3"
   ]
  },
  {
   "cell_type": "code",
   "execution_count": 12,
   "metadata": {},
   "outputs": [
    {
     "data": {
      "image/png": "[encoded data removed]",
      "text/plain": [
       "<Figure size 432x288 with 1 Axes>"
      ]
     },
     "metadata": {
      "needs_background": "light"
     },
     "output_type": "display_data"
    }
   ],
   "source": [
    "x = df3['review_count']\n",
    "y = df['review_count']\n",
    "num_bins = 15\n",
    "n, bins, patches = plt.hist(x, num_bins, facecolor='black', alpha=0.5)\n",
    "n, bins, patches = plt.hist(y, num_bins, facecolor='green', alpha=0.5)\n",
    "plt.subplots_adjust(left=0.15)\n",
    "plt.xlabel(\"Reviews\")\n",
    "plt.ylabel(\"Count\")\n",
    "plt.show()"
   ]
  },
  {
   "cell_type": "markdown",
   "metadata": {
    "colab_type": "text",
    "id": "24fRMKkZgc1_"
   },
   "source": [
    "Where the black represents the single dollar sign restaurants and the green represents the initial dataset. We can draw the conclusion for both sets being compared that most of these restaurants tend to average around 0 to 200 reviews each. This means that either Riverside restaurants are not as popular, there are few \"Yelpers\" to leave reviews for this area, or these businesses haven't been around for a while."
   ]
  }
 ],
 "metadata": {
  "kernelspec": {
   "display_name": "Python 3",
   "language": "python",
   "name": "python3"
  },
  "language_info": {
   "codemirror_mode": {
    "name": "ipython",
    "version": 3
   },
   "file_extension": ".py",
   "mimetype": "text/x-python",
   "name": "python",
   "nbconvert_exporter": "python",
   "pygments_lexer": "ipython3",
   "version": "3.6.8"
  }
 },
 "nbformat": 4,
 "nbformat_minor": 4
}
